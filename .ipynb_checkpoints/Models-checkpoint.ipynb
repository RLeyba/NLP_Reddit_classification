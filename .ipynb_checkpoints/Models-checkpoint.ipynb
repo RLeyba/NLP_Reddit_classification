{
 "cells": [
  {
   "cell_type": "markdown",
   "metadata": {},
   "source": [
    "# Building a Logistic Regression & Gaussian & Multinomial Naive Bayes Models"
   ]
  },
  {
   "cell_type": "code",
   "execution_count": 55,
   "metadata": {},
   "outputs": [],
   "source": [
    "import matplotlib.pyplot as plt\n",
    "from matplotlib.colors import ListedColormap\n",
    "import numpy as np\n",
    "import pandas as pd\n",
    "import seaborn as sns\n",
    "import scipy.stats as stats\n",
    "\n",
    "from sklearn.linear_model import LogisticRegression\n",
    "from sklearn.datasets import make_classification\n",
    "from sklearn.feature_extraction.text import CountVectorizer, TfidfVectorizer\n",
    "from sklearn.model_selection import train_test_split, cross_val_score, GridSearchCV\n",
    "from sklearn.pipeline import Pipeline\n",
    "from sklearn.neighbors import KNeighborsClassifier \n",
    "from sklearn.preprocessing import StandardScaler\n",
    "from sklearn.naive_bayes import GaussianNB , MultinomialNB\n",
    "from sklearn import metrics"
   ]
  },
  {
   "cell_type": "markdown",
   "metadata": {},
   "source": [
    "## Load in data and create features and target feaure variables\n"
   ]
  },
  {
   "cell_type": "code",
   "execution_count": 2,
   "metadata": {},
   "outputs": [],
   "source": [
    "#read in the data \n",
    "data = pd.read_csv('./reddit_datasets/combined_data.csv', index_col = 'Unnamed: 0')"
   ]
  },
  {
   "cell_type": "code",
   "execution_count": 3,
   "metadata": {
    "scrolled": true
   },
   "outputs": [
    {
     "data": {
      "text/html": [
       "<div>\n",
       "<style scoped>\n",
       "    .dataframe tbody tr th:only-of-type {\n",
       "        vertical-align: middle;\n",
       "    }\n",
       "\n",
       "    .dataframe tbody tr th {\n",
       "        vertical-align: top;\n",
       "    }\n",
       "\n",
       "    .dataframe thead th {\n",
       "        text-align: right;\n",
       "    }\n",
       "</style>\n",
       "<table border=\"1\" class=\"dataframe\">\n",
       "  <thead>\n",
       "    <tr style=\"text-align: right;\">\n",
       "      <th></th>\n",
       "      <th>selftext</th>\n",
       "      <th>title</th>\n",
       "      <th>timestamp</th>\n",
       "      <th>sub_reddit</th>\n",
       "      <th>t_s</th>\n",
       "      <th>sent_selftext</th>\n",
       "      <th>sent_title</th>\n",
       "      <th>sent_ts</th>\n",
       "      <th>hour</th>\n",
       "    </tr>\n",
       "  </thead>\n",
       "  <tbody>\n",
       "    <tr>\n",
       "      <th>0</th>\n",
       "      <td>We were at the park, kids were taking turns go...</td>\n",
       "      <td>My toddler chest-kicked another kid into the a...</td>\n",
       "      <td>2019-07-08 05:13:30</td>\n",
       "      <td>1</td>\n",
       "      <td>My toddler chest-kicked another kid into the a...</td>\n",
       "      <td>0.9861</td>\n",
       "      <td>0.3875</td>\n",
       "      <td>0.9861</td>\n",
       "      <td>5</td>\n",
       "    </tr>\n",
       "    <tr>\n",
       "      <th>1</th>\n",
       "      <td>I’m not a good looking guy and I don’t say it ...</td>\n",
       "      <td>The most female interaction I’ve ever had in m...</td>\n",
       "      <td>2019-07-08 08:23:10</td>\n",
       "      <td>1</td>\n",
       "      <td>The most female interaction I’ve ever had in m...</td>\n",
       "      <td>0.9939</td>\n",
       "      <td>0.0000</td>\n",
       "      <td>0.9939</td>\n",
       "      <td>8</td>\n",
       "    </tr>\n",
       "    <tr>\n",
       "      <th>2</th>\n",
       "      <td>I know a gal who has two kids and is pregnant ...</td>\n",
       "      <td>I think people with genetic conditions that th...</td>\n",
       "      <td>2019-07-08 20:15:16</td>\n",
       "      <td>1</td>\n",
       "      <td>I think people with genetic conditions that th...</td>\n",
       "      <td>-0.9905</td>\n",
       "      <td>0.0000</td>\n",
       "      <td>-0.9905</td>\n",
       "      <td>20</td>\n",
       "    </tr>\n",
       "    <tr>\n",
       "      <th>3</th>\n",
       "      <td>This is pretty hard for me to post. Ive never ...</td>\n",
       "      <td>I almost killed my step-mom..</td>\n",
       "      <td>2019-07-07 16:50:52</td>\n",
       "      <td>1</td>\n",
       "      <td>I almost killed my step-mom..This is pretty ha...</td>\n",
       "      <td>-0.9976</td>\n",
       "      <td>-0.6378</td>\n",
       "      <td>-0.9978</td>\n",
       "      <td>16</td>\n",
       "    </tr>\n",
       "    <tr>\n",
       "      <th>4</th>\n",
       "      <td>After livelier-than-average sex, my wife said ...</td>\n",
       "      <td>My Wife Asked a Loaded Question and I Lied to Her</td>\n",
       "      <td>2019-07-08 21:46:59</td>\n",
       "      <td>1</td>\n",
       "      <td>My Wife Asked a Loaded Question and I Lied to ...</td>\n",
       "      <td>-0.8470</td>\n",
       "      <td>-0.3818</td>\n",
       "      <td>-0.8741</td>\n",
       "      <td>21</td>\n",
       "    </tr>\n",
       "  </tbody>\n",
       "</table>\n",
       "</div>"
      ],
      "text/plain": [
       "                                            selftext  \\\n",
       "0  We were at the park, kids were taking turns go...   \n",
       "1  I’m not a good looking guy and I don’t say it ...   \n",
       "2  I know a gal who has two kids and is pregnant ...   \n",
       "3  This is pretty hard for me to post. Ive never ...   \n",
       "4  After livelier-than-average sex, my wife said ...   \n",
       "\n",
       "                                               title            timestamp  \\\n",
       "0  My toddler chest-kicked another kid into the a...  2019-07-08 05:13:30   \n",
       "1  The most female interaction I’ve ever had in m...  2019-07-08 08:23:10   \n",
       "2  I think people with genetic conditions that th...  2019-07-08 20:15:16   \n",
       "3                      I almost killed my step-mom..  2019-07-07 16:50:52   \n",
       "4  My Wife Asked a Loaded Question and I Lied to Her  2019-07-08 21:46:59   \n",
       "\n",
       "   sub_reddit                                                t_s  \\\n",
       "0           1  My toddler chest-kicked another kid into the a...   \n",
       "1           1  The most female interaction I’ve ever had in m...   \n",
       "2           1  I think people with genetic conditions that th...   \n",
       "3           1  I almost killed my step-mom..This is pretty ha...   \n",
       "4           1  My Wife Asked a Loaded Question and I Lied to ...   \n",
       "\n",
       "   sent_selftext  sent_title  sent_ts  hour  \n",
       "0         0.9861      0.3875   0.9861     5  \n",
       "1         0.9939      0.0000   0.9939     8  \n",
       "2        -0.9905      0.0000  -0.9905    20  \n",
       "3        -0.9976     -0.6378  -0.9978    16  \n",
       "4        -0.8470     -0.3818  -0.8741    21  "
      ]
     },
     "execution_count": 3,
     "metadata": {},
     "output_type": "execute_result"
    }
   ],
   "source": [
    "data.head() "
   ]
  },
  {
   "cell_type": "code",
   "execution_count": 4,
   "metadata": {},
   "outputs": [],
   "source": [
    "#create features\n",
    "X = data.drop( columns = 'sub_reddit')\n"
   ]
  },
  {
   "cell_type": "code",
   "execution_count": 5,
   "metadata": {},
   "outputs": [
    {
     "data": {
      "text/plain": [
       "(1971, 8)"
      ]
     },
     "execution_count": 5,
     "metadata": {},
     "output_type": "execute_result"
    }
   ],
   "source": [
    "X.shape"
   ]
  },
  {
   "cell_type": "code",
   "execution_count": 6,
   "metadata": {},
   "outputs": [],
   "source": [
    "#create target feature\n",
    "y = data['sub_reddit']"
   ]
  },
  {
   "cell_type": "markdown",
   "metadata": {},
   "source": [
    "## Building the Logistic Regression Model"
   ]
  },
  {
   "cell_type": "code",
   "execution_count": 7,
   "metadata": {},
   "outputs": [],
   "source": [
    "#Train test split your data for count vectorizer\n",
    "X_train, X_test, y_train, y_test = train_test_split(X, y, stratify=y, random_state=42)"
   ]
  },
  {
   "cell_type": "code",
   "execution_count": 9,
   "metadata": {},
   "outputs": [],
   "source": [
    "#assign my data that will be fed into count_vec\n",
    "X_vec = X_train['t_s']"
   ]
  },
  {
   "cell_type": "code",
   "execution_count": 10,
   "metadata": {},
   "outputs": [],
   "source": [
    "#create pipeline\n",
    "pipe = Pipeline([\n",
    "    ('cvec', CountVectorizer()),\n",
    "    ('lr', LogisticRegression())\n",
    "])"
   ]
  },
  {
   "cell_type": "code",
   "execution_count": 11,
   "metadata": {},
   "outputs": [
    {
     "name": "stderr",
     "output_type": "stream",
     "text": [
      "/anaconda3/lib/python3.6/site-packages/sklearn/linear_model/logistic.py:433: FutureWarning: Default solver will be changed to 'lbfgs' in 0.22. Specify a solver to silence this warning.\n",
      "  FutureWarning)\n"
     ]
    },
    {
     "name": "stdout",
     "output_type": "stream",
     "text": [
      "0.7016238159675237\n"
     ]
    },
    {
     "data": {
      "text/plain": [
       "{'cvec__max_df': 0.9,\n",
       " 'cvec__max_features': 3000,\n",
       " 'cvec__min_df': 3,\n",
       " 'cvec__ngram_range': (1, 2),\n",
       " 'cvec__stop_words': None,\n",
       " 'lr__penalty': 'l2'}"
      ]
     },
     "execution_count": 11,
     "metadata": {},
     "output_type": "execute_result"
    }
   ],
   "source": [
    "#set pipe params\n",
    "pipe_params = {\n",
    "    'cvec__max_features': [2500, 3000, 3500],\n",
    "    'cvec__min_df': [2, 3],\n",
    "    'cvec__max_df': [.9, .95],\n",
    "    'cvec__ngram_range': [(1,1), (1,2)],\n",
    "    'cvec__stop_words': [None],\n",
    "    'lr__penalty': ['l1','l2']\n",
    "}\n",
    "#Instatiate GridSearchCV\n",
    "gs = GridSearchCV(pipe, param_grid=pipe_params, cv=3)\n",
    "gs.fit(X_vec, y_train)\n",
    "print(gs.best_score_)\n",
    "#get best params\n",
    "gs.best_params_"
   ]
  },
  {
   "cell_type": "code",
   "execution_count": 12,
   "metadata": {},
   "outputs": [],
   "source": [
    "#re-instatiate CountVectorizer with the best params\n",
    "cvec = CountVectorizer(max_df = 0.9,\n",
    "                       max_features = 3000,\n",
    "                       min_df = 3,\n",
    "                       ngram_range = (1, 2),\n",
    "                       stop_words = None)"
   ]
  },
  {
   "cell_type": "code",
   "execution_count": 13,
   "metadata": {},
   "outputs": [
    {
     "data": {
      "text/plain": [
       "CountVectorizer(analyzer='word', binary=False, decode_error='strict',\n",
       "        dtype=<class 'numpy.int64'>, encoding='utf-8', input='content',\n",
       "        lowercase=True, max_df=0.9, max_features=3000, min_df=3,\n",
       "        ngram_range=(1, 2), preprocessor=None, stop_words=None,\n",
       "        strip_accents=None, token_pattern='(?u)\\\\b\\\\w\\\\w+\\\\b',\n",
       "        tokenizer=None, vocabulary=None)"
      ]
     },
     "execution_count": 13,
     "metadata": {},
     "output_type": "execute_result"
    }
   ],
   "source": [
    "#fit model\n",
    "cvec.fit(X_vec)"
   ]
  },
  {
   "cell_type": "code",
   "execution_count": 14,
   "metadata": {},
   "outputs": [],
   "source": [
    "#transform data\n",
    "final_word_vec = cvec.transform(X['t_s'])"
   ]
  },
  {
   "cell_type": "code",
   "execution_count": 15,
   "metadata": {},
   "outputs": [
    {
     "data": {
      "text/plain": [
       "1971"
      ]
     },
     "execution_count": 15,
     "metadata": {},
     "output_type": "execute_result"
    }
   ],
   "source": [
    "#change vector into pandas DataFrame\n",
    "X_vec_df = pd.DataFrame(final_word_vec.toarray(), columns=cvec.get_feature_names())\n",
    "len(X_vec_df)"
   ]
  },
  {
   "cell_type": "code",
   "execution_count": 16,
   "metadata": {
    "scrolled": false
   },
   "outputs": [],
   "source": [
    "#concatenate new vectorized data & previous df\n",
    "new_data =  pd.concat([data, X_vec_df], axis=1)"
   ]
  },
  {
   "cell_type": "code",
   "execution_count": 17,
   "metadata": {},
   "outputs": [
    {
     "data": {
      "text/plain": [
       "(1971, 3009)"
      ]
     },
     "execution_count": 17,
     "metadata": {},
     "output_type": "execute_result"
    }
   ],
   "source": [
    "new_data.shape"
   ]
  },
  {
   "cell_type": "code",
   "execution_count": 18,
   "metadata": {},
   "outputs": [
    {
     "data": {
      "text/html": [
       "<div>\n",
       "<style scoped>\n",
       "    .dataframe tbody tr th:only-of-type {\n",
       "        vertical-align: middle;\n",
       "    }\n",
       "\n",
       "    .dataframe tbody tr th {\n",
       "        vertical-align: top;\n",
       "    }\n",
       "\n",
       "    .dataframe thead th {\n",
       "        text-align: right;\n",
       "    }\n",
       "</style>\n",
       "<table border=\"1\" class=\"dataframe\">\n",
       "  <thead>\n",
       "    <tr style=\"text-align: right;\">\n",
       "      <th></th>\n",
       "      <th>selftext</th>\n",
       "      <th>title</th>\n",
       "      <th>timestamp</th>\n",
       "      <th>sub_reddit</th>\n",
       "      <th>t_s</th>\n",
       "      <th>sent_selftext</th>\n",
       "      <th>sent_title</th>\n",
       "      <th>sent_ts</th>\n",
       "      <th>hour</th>\n",
       "    </tr>\n",
       "  </thead>\n",
       "  <tbody>\n",
       "    <tr>\n",
       "      <th>0</th>\n",
       "      <td>We were at the park, kids were taking turns go...</td>\n",
       "      <td>My toddler chest-kicked another kid into the a...</td>\n",
       "      <td>2019-07-08 05:13:30</td>\n",
       "      <td>1</td>\n",
       "      <td>My toddler chest-kicked another kid into the a...</td>\n",
       "      <td>0.9861</td>\n",
       "      <td>0.3875</td>\n",
       "      <td>0.9861</td>\n",
       "      <td>5</td>\n",
       "    </tr>\n",
       "    <tr>\n",
       "      <th>1</th>\n",
       "      <td>I’m not a good looking guy and I don’t say it ...</td>\n",
       "      <td>The most female interaction I’ve ever had in m...</td>\n",
       "      <td>2019-07-08 08:23:10</td>\n",
       "      <td>1</td>\n",
       "      <td>The most female interaction I’ve ever had in m...</td>\n",
       "      <td>0.9939</td>\n",
       "      <td>0.0000</td>\n",
       "      <td>0.9939</td>\n",
       "      <td>8</td>\n",
       "    </tr>\n",
       "    <tr>\n",
       "      <th>2</th>\n",
       "      <td>I know a gal who has two kids and is pregnant ...</td>\n",
       "      <td>I think people with genetic conditions that th...</td>\n",
       "      <td>2019-07-08 20:15:16</td>\n",
       "      <td>1</td>\n",
       "      <td>I think people with genetic conditions that th...</td>\n",
       "      <td>-0.9905</td>\n",
       "      <td>0.0000</td>\n",
       "      <td>-0.9905</td>\n",
       "      <td>20</td>\n",
       "    </tr>\n",
       "    <tr>\n",
       "      <th>3</th>\n",
       "      <td>This is pretty hard for me to post. Ive never ...</td>\n",
       "      <td>I almost killed my step-mom..</td>\n",
       "      <td>2019-07-07 16:50:52</td>\n",
       "      <td>1</td>\n",
       "      <td>I almost killed my step-mom..This is pretty ha...</td>\n",
       "      <td>-0.9976</td>\n",
       "      <td>-0.6378</td>\n",
       "      <td>-0.9978</td>\n",
       "      <td>16</td>\n",
       "    </tr>\n",
       "    <tr>\n",
       "      <th>4</th>\n",
       "      <td>After livelier-than-average sex, my wife said ...</td>\n",
       "      <td>My Wife Asked a Loaded Question and I Lied to Her</td>\n",
       "      <td>2019-07-08 21:46:59</td>\n",
       "      <td>1</td>\n",
       "      <td>My Wife Asked a Loaded Question and I Lied to ...</td>\n",
       "      <td>-0.8470</td>\n",
       "      <td>-0.3818</td>\n",
       "      <td>-0.8741</td>\n",
       "      <td>21</td>\n",
       "    </tr>\n",
       "  </tbody>\n",
       "</table>\n",
       "</div>"
      ],
      "text/plain": [
       "                                            selftext  \\\n",
       "0  We were at the park, kids were taking turns go...   \n",
       "1  I’m not a good looking guy and I don’t say it ...   \n",
       "2  I know a gal who has two kids and is pregnant ...   \n",
       "3  This is pretty hard for me to post. Ive never ...   \n",
       "4  After livelier-than-average sex, my wife said ...   \n",
       "\n",
       "                                               title            timestamp  \\\n",
       "0  My toddler chest-kicked another kid into the a...  2019-07-08 05:13:30   \n",
       "1  The most female interaction I’ve ever had in m...  2019-07-08 08:23:10   \n",
       "2  I think people with genetic conditions that th...  2019-07-08 20:15:16   \n",
       "3                      I almost killed my step-mom..  2019-07-07 16:50:52   \n",
       "4  My Wife Asked a Loaded Question and I Lied to Her  2019-07-08 21:46:59   \n",
       "\n",
       "   sub_reddit                                                t_s  \\\n",
       "0           1  My toddler chest-kicked another kid into the a...   \n",
       "1           1  The most female interaction I’ve ever had in m...   \n",
       "2           1  I think people with genetic conditions that th...   \n",
       "3           1  I almost killed my step-mom..This is pretty ha...   \n",
       "4           1  My Wife Asked a Loaded Question and I Lied to ...   \n",
       "\n",
       "   sent_selftext  sent_title  sent_ts  hour  \n",
       "0         0.9861      0.3875   0.9861     5  \n",
       "1         0.9939      0.0000   0.9939     8  \n",
       "2        -0.9905      0.0000  -0.9905    20  \n",
       "3        -0.9976     -0.6378  -0.9978    16  \n",
       "4        -0.8470     -0.3818  -0.8741    21  "
      ]
     },
     "execution_count": 18,
     "metadata": {},
     "output_type": "execute_result"
    }
   ],
   "source": [
    "data.head()"
   ]
  },
  {
   "cell_type": "code",
   "execution_count": 19,
   "metadata": {},
   "outputs": [],
   "source": [
    "#assigns features and target features\n",
    "X = new_data.drop( columns = ['sub_reddit',\n",
    "                              'selftext',\n",
    "                              'title',\n",
    "                              'timestamp',\n",
    "                              't_s'])\n",
    "y= new_data['sub_reddit']\n"
   ]
  },
  {
   "cell_type": "code",
   "execution_count": 20,
   "metadata": {},
   "outputs": [],
   "source": [
    "#train test split new data for logistic reg\n",
    "X_train, X_test, y_train, y_test = train_test_split(X,\n",
    "                                                    y,\n",
    "                                                    test_size=0.33,\n",
    "                                                    random_state=42)"
   ]
  },
  {
   "cell_type": "code",
   "execution_count": 21,
   "metadata": {},
   "outputs": [],
   "source": [
    "#instatiate model\n",
    "logreg = LogisticRegression()"
   ]
  },
  {
   "cell_type": "code",
   "execution_count": 22,
   "metadata": {
    "scrolled": false
   },
   "outputs": [
    {
     "name": "stdout",
     "output_type": "stream",
     "text": [
      "Logistic Regression Intercept: [1.07218056]\n",
      "Logistic Regression Coefficient: [[ 0.5852295   0.1579413  -0.27862373 ...  0.25263656  0.49679009\n",
      "   0.11522927]]\n"
     ]
    }
   ],
   "source": [
    "#fit model\n",
    "logreg.fit(X_train, y_train)\n",
    "\n",
    "#print out intercept and coefficients\n",
    "print(f'Logistic Regression Intercept: {logreg.intercept_}')\n",
    "print(f'Logistic Regression Coefficient: {logreg.coef_}')\n",
    "\n"
   ]
  },
  {
   "cell_type": "code",
   "execution_count": 24,
   "metadata": {},
   "outputs": [
    {
     "name": "stdout",
     "output_type": "stream",
     "text": [
      "Logreg predicted values: [1 0 0 0 1]\n"
     ]
    }
   ],
   "source": [
    "#check if it generates predicted values\n",
    "print(f'Logreg predicted values: {logreg.predict(X_train.head())}')"
   ]
  },
  {
   "cell_type": "code",
   "execution_count": 25,
   "metadata": {},
   "outputs": [
    {
     "name": "stdout",
     "output_type": "stream",
     "text": [
      "Logreg predicted probabilities: [[4.88112952e-02 9.51188705e-01]\n",
      " [9.95557485e-01 4.44251535e-03]\n",
      " [8.11963378e-01 1.88036622e-01]\n",
      " [9.99610354e-01 3.89645834e-04]\n",
      " [6.01247027e-02 9.39875297e-01]]\n"
     ]
    }
   ],
   "source": [
    "#check if it generates predicted probabilities\n",
    "print(f'Logreg predicted probabilities: {logreg.predict_proba(X_train.head())}')"
   ]
  },
  {
   "cell_type": "code",
   "execution_count": 26,
   "metadata": {},
   "outputs": [],
   "source": [
    "y_pred =  logreg.predict(X_test)"
   ]
  },
  {
   "cell_type": "code",
   "execution_count": 27,
   "metadata": {},
   "outputs": [
    {
     "name": "stderr",
     "output_type": "stream",
     "text": [
      "/anaconda3/lib/python3.6/site-packages/sklearn/linear_model/logistic.py:433: FutureWarning: Default solver will be changed to 'lbfgs' in 0.22. Specify a solver to silence this warning.\n",
      "  FutureWarning)\n",
      "/anaconda3/lib/python3.6/site-packages/sklearn/linear_model/logistic.py:433: FutureWarning: Default solver will be changed to 'lbfgs' in 0.22. Specify a solver to silence this warning.\n",
      "  FutureWarning)\n",
      "/anaconda3/lib/python3.6/site-packages/sklearn/linear_model/logistic.py:433: FutureWarning: Default solver will be changed to 'lbfgs' in 0.22. Specify a solver to silence this warning.\n",
      "  FutureWarning)\n",
      "/anaconda3/lib/python3.6/site-packages/sklearn/linear_model/logistic.py:433: FutureWarning: Default solver will be changed to 'lbfgs' in 0.22. Specify a solver to silence this warning.\n",
      "  FutureWarning)\n",
      "/anaconda3/lib/python3.6/site-packages/sklearn/linear_model/logistic.py:433: FutureWarning: Default solver will be changed to 'lbfgs' in 0.22. Specify a solver to silence this warning.\n",
      "  FutureWarning)\n"
     ]
    },
    {
     "data": {
      "text/plain": [
       "0.6954545454545454"
      ]
     },
     "execution_count": 27,
     "metadata": {},
     "output_type": "execute_result"
    }
   ],
   "source": [
    "#find cross val score mean\n",
    "cross_val_score(logreg, X_train, y_train, cv = 5).mean()\n"
   ]
  },
  {
   "cell_type": "code",
   "execution_count": 29,
   "metadata": {
    "scrolled": true
   },
   "outputs": [
    {
     "data": {
      "text/plain": [
       "0.6973886328725039"
      ]
     },
     "execution_count": 29,
     "metadata": {},
     "output_type": "execute_result"
    }
   ],
   "source": [
    "#check actual accuracy score\n",
    "metrics.accuracy_score(y_test, y_pred)"
   ]
  },
  {
   "cell_type": "code",
   "execution_count": null,
   "metadata": {},
   "outputs": [],
   "source": []
  },
  {
   "cell_type": "markdown",
   "metadata": {},
   "source": [
    "## Build a K Nearest Neighbors Classifier"
   ]
  },
  {
   "cell_type": "code",
   "execution_count": 30,
   "metadata": {},
   "outputs": [],
   "source": [
    "#instantiate\n",
    "knn = KNeighborsClassifier()"
   ]
  },
  {
   "cell_type": "code",
   "execution_count": 31,
   "metadata": {},
   "outputs": [
    {
     "data": {
      "text/plain": [
       "0.6030303030303029"
      ]
     },
     "execution_count": 31,
     "metadata": {},
     "output_type": "execute_result"
    }
   ],
   "source": [
    "#check crossval score\n",
    "cross_val_score(KNeighborsClassifier(n_neighbors = 5), X_train, y_train, cv = 5).mean()"
   ]
  },
  {
   "cell_type": "code",
   "execution_count": 45,
   "metadata": {},
   "outputs": [
    {
     "data": {
      "text/html": [
       "<div>\n",
       "<style scoped>\n",
       "    .dataframe tbody tr th:only-of-type {\n",
       "        vertical-align: middle;\n",
       "    }\n",
       "\n",
       "    .dataframe tbody tr th {\n",
       "        vertical-align: top;\n",
       "    }\n",
       "\n",
       "    .dataframe thead th {\n",
       "        text-align: right;\n",
       "    }\n",
       "</style>\n",
       "<table border=\"1\" class=\"dataframe\">\n",
       "  <thead>\n",
       "    <tr style=\"text-align: right;\">\n",
       "      <th></th>\n",
       "      <th>sent_selftext</th>\n",
       "      <th>sent_title</th>\n",
       "      <th>sent_ts</th>\n",
       "      <th>hour</th>\n",
       "      <th>10</th>\n",
       "      <th>10 years</th>\n",
       "      <th>100</th>\n",
       "      <th>11</th>\n",
       "      <th>12</th>\n",
       "      <th>13</th>\n",
       "      <th>...</th>\n",
       "      <th>you to</th>\n",
       "      <th>you ve</th>\n",
       "      <th>you want</th>\n",
       "      <th>you were</th>\n",
       "      <th>you will</th>\n",
       "      <th>you you</th>\n",
       "      <th>young</th>\n",
       "      <th>younger</th>\n",
       "      <th>your</th>\n",
       "      <th>yourself</th>\n",
       "    </tr>\n",
       "  </thead>\n",
       "  <tbody>\n",
       "    <tr>\n",
       "      <th>287</th>\n",
       "      <td>-0.9726</td>\n",
       "      <td>-0.7717</td>\n",
       "      <td>-0.9753</td>\n",
       "      <td>9</td>\n",
       "      <td>0</td>\n",
       "      <td>0</td>\n",
       "      <td>0</td>\n",
       "      <td>0</td>\n",
       "      <td>0</td>\n",
       "      <td>0</td>\n",
       "      <td>...</td>\n",
       "      <td>0</td>\n",
       "      <td>0</td>\n",
       "      <td>0</td>\n",
       "      <td>0</td>\n",
       "      <td>0</td>\n",
       "      <td>0</td>\n",
       "      <td>0</td>\n",
       "      <td>0</td>\n",
       "      <td>0</td>\n",
       "      <td>0</td>\n",
       "    </tr>\n",
       "    <tr>\n",
       "      <th>1270</th>\n",
       "      <td>-0.8175</td>\n",
       "      <td>0.0000</td>\n",
       "      <td>-0.8175</td>\n",
       "      <td>2</td>\n",
       "      <td>0</td>\n",
       "      <td>0</td>\n",
       "      <td>0</td>\n",
       "      <td>0</td>\n",
       "      <td>0</td>\n",
       "      <td>0</td>\n",
       "      <td>...</td>\n",
       "      <td>0</td>\n",
       "      <td>0</td>\n",
       "      <td>0</td>\n",
       "      <td>0</td>\n",
       "      <td>0</td>\n",
       "      <td>0</td>\n",
       "      <td>1</td>\n",
       "      <td>0</td>\n",
       "      <td>0</td>\n",
       "      <td>0</td>\n",
       "    </tr>\n",
       "    <tr>\n",
       "      <th>1956</th>\n",
       "      <td>0.4242</td>\n",
       "      <td>-0.5413</td>\n",
       "      <td>-0.0727</td>\n",
       "      <td>7</td>\n",
       "      <td>0</td>\n",
       "      <td>0</td>\n",
       "      <td>0</td>\n",
       "      <td>0</td>\n",
       "      <td>0</td>\n",
       "      <td>0</td>\n",
       "      <td>...</td>\n",
       "      <td>0</td>\n",
       "      <td>0</td>\n",
       "      <td>0</td>\n",
       "      <td>0</td>\n",
       "      <td>0</td>\n",
       "      <td>0</td>\n",
       "      <td>0</td>\n",
       "      <td>0</td>\n",
       "      <td>0</td>\n",
       "      <td>0</td>\n",
       "    </tr>\n",
       "    <tr>\n",
       "      <th>1345</th>\n",
       "      <td>-0.9695</td>\n",
       "      <td>-0.5106</td>\n",
       "      <td>-0.9695</td>\n",
       "      <td>3</td>\n",
       "      <td>0</td>\n",
       "      <td>0</td>\n",
       "      <td>0</td>\n",
       "      <td>0</td>\n",
       "      <td>0</td>\n",
       "      <td>0</td>\n",
       "      <td>...</td>\n",
       "      <td>0</td>\n",
       "      <td>0</td>\n",
       "      <td>0</td>\n",
       "      <td>0</td>\n",
       "      <td>0</td>\n",
       "      <td>0</td>\n",
       "      <td>0</td>\n",
       "      <td>0</td>\n",
       "      <td>0</td>\n",
       "      <td>0</td>\n",
       "    </tr>\n",
       "    <tr>\n",
       "      <th>736</th>\n",
       "      <td>0.7598</td>\n",
       "      <td>-0.4588</td>\n",
       "      <td>0.5463</td>\n",
       "      <td>11</td>\n",
       "      <td>1</td>\n",
       "      <td>0</td>\n",
       "      <td>0</td>\n",
       "      <td>0</td>\n",
       "      <td>0</td>\n",
       "      <td>0</td>\n",
       "      <td>...</td>\n",
       "      <td>0</td>\n",
       "      <td>0</td>\n",
       "      <td>0</td>\n",
       "      <td>0</td>\n",
       "      <td>0</td>\n",
       "      <td>0</td>\n",
       "      <td>0</td>\n",
       "      <td>0</td>\n",
       "      <td>0</td>\n",
       "      <td>0</td>\n",
       "    </tr>\n",
       "  </tbody>\n",
       "</table>\n",
       "<p>5 rows × 3003 columns</p>\n",
       "</div>"
      ],
      "text/plain": [
       "      sent_selftext  sent_title  sent_ts  hour  10  10 years  100  11  12  13  \\\n",
       "287         -0.9726     -0.7717  -0.9753     9   0         0    0   0   0   0   \n",
       "1270        -0.8175      0.0000  -0.8175     2   0         0    0   0   0   0   \n",
       "1956         0.4242     -0.5413  -0.0727     7   0         0    0   0   0   0   \n",
       "1345        -0.9695     -0.5106  -0.9695     3   0         0    0   0   0   0   \n",
       "736          0.7598     -0.4588   0.5463    11   1         0    0   0   0   0   \n",
       "\n",
       "      ...  you to  you ve  you want  you were  you will  you you  young  \\\n",
       "287   ...       0       0         0         0         0        0      0   \n",
       "1270  ...       0       0         0         0         0        0      1   \n",
       "1956  ...       0       0         0         0         0        0      0   \n",
       "1345  ...       0       0         0         0         0        0      0   \n",
       "736   ...       0       0         0         0         0        0      0   \n",
       "\n",
       "      younger  your  yourself  \n",
       "287         0     0         0  \n",
       "1270        0     0         0  \n",
       "1956        0     0         0  \n",
       "1345        0     0         0  \n",
       "736         0     0         0  \n",
       "\n",
       "[5 rows x 3003 columns]"
      ]
     },
     "execution_count": 45,
     "metadata": {},
     "output_type": "execute_result"
    }
   ],
   "source": [
    "X_train.head()"
   ]
  },
  {
   "cell_type": "markdown",
   "metadata": {},
   "source": [
    "## Build Gaussian and Multinomial Naive Bayes Models"
   ]
  },
  {
   "cell_type": "code",
   "execution_count": 47,
   "metadata": {
    "scrolled": true
   },
   "outputs": [
    {
     "name": "stderr",
     "output_type": "stream",
     "text": [
      "/anaconda3/lib/python3.6/site-packages/pandas/core/frame.py:3940: SettingWithCopyWarning: \n",
      "A value is trying to be set on a copy of a slice from a DataFrame\n",
      "\n",
      "See the caveats in the documentation: http://pandas.pydata.org/pandas-docs/stable/indexing.html#indexing-view-versus-copy\n",
      "  errors=errors)\n"
     ]
    }
   ],
   "source": [
    "#drop non discrete data\n",
    "X_train.drop( columns = ['sent_selftext','sent_title','sent_ts'],inplace = True)"
   ]
  },
  {
   "cell_type": "code",
   "execution_count": 52,
   "metadata": {
    "scrolled": false
   },
   "outputs": [
    {
     "name": "stderr",
     "output_type": "stream",
     "text": [
      "/anaconda3/lib/python3.6/site-packages/pandas/core/frame.py:3940: SettingWithCopyWarning: \n",
      "A value is trying to be set on a copy of a slice from a DataFrame\n",
      "\n",
      "See the caveats in the documentation: http://pandas.pydata.org/pandas-docs/stable/indexing.html#indexing-view-versus-copy\n",
      "  errors=errors)\n"
     ]
    }
   ],
   "source": [
    "#drop non discrete data\n",
    "X_test.drop( columns = ['sent_selftext','sent_title','sent_ts'],inplace = True)"
   ]
  },
  {
   "cell_type": "code",
   "execution_count": null,
   "metadata": {},
   "outputs": [],
   "source": [
    "#instantiate Gaussian model\n",
    "gnb = GaussianNB()"
   ]
  },
  {
   "cell_type": "code",
   "execution_count": null,
   "metadata": {},
   "outputs": [],
   "source": [
    "#fit\n",
    "gnb.fit(X_train , y_train)"
   ]
  },
  {
   "cell_type": "code",
   "execution_count": 53,
   "metadata": {},
   "outputs": [],
   "source": [
    "y_pred =  gnb.predict(X_test)"
   ]
  },
  {
   "cell_type": "code",
   "execution_count": 54,
   "metadata": {},
   "outputs": [
    {
     "data": {
      "text/plain": [
       "0.6390168970814132"
      ]
     },
     "execution_count": 54,
     "metadata": {},
     "output_type": "execute_result"
    }
   ],
   "source": [
    "metrics.accuracy_score(y_test, y_pred)"
   ]
  },
  {
   "cell_type": "code",
   "execution_count": 56,
   "metadata": {},
   "outputs": [],
   "source": [
    "#instiate Multinomial model\n",
    "mnb = MultinomialNB()"
   ]
  },
  {
   "cell_type": "code",
   "execution_count": 57,
   "metadata": {},
   "outputs": [
    {
     "data": {
      "text/plain": [
       "MultinomialNB(alpha=1.0, class_prior=None, fit_prior=True)"
      ]
     },
     "execution_count": 57,
     "metadata": {},
     "output_type": "execute_result"
    }
   ],
   "source": [
    "mnb.fit(X_train , y_train)"
   ]
  },
  {
   "cell_type": "code",
   "execution_count": 58,
   "metadata": {},
   "outputs": [],
   "source": [
    "y_pred =  mnb.predict(X_test)"
   ]
  },
  {
   "cell_type": "code",
   "execution_count": 59,
   "metadata": {},
   "outputs": [
    {
     "data": {
      "text/plain": [
       "0.717357910906298"
      ]
     },
     "execution_count": 59,
     "metadata": {},
     "output_type": "execute_result"
    }
   ],
   "source": [
    "metrics.accuracy_score(y_test, y_pred)"
   ]
  },
  {
   "cell_type": "code",
   "execution_count": null,
   "metadata": {},
   "outputs": [],
   "source": []
  }
 ],
 "metadata": {
  "kernelspec": {
   "display_name": "Python 3",
   "language": "python",
   "name": "python3"
  },
  "language_info": {
   "codemirror_mode": {
    "name": "ipython",
    "version": 3
   },
   "file_extension": ".py",
   "mimetype": "text/x-python",
   "name": "python",
   "nbconvert_exporter": "python",
   "pygments_lexer": "ipython3",
   "version": "3.6.8"
  }
 },
 "nbformat": 4,
 "nbformat_minor": 2
}
